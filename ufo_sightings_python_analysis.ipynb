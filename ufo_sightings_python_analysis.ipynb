{
  "nbformat": 4,
  "nbformat_minor": 0,
  "metadata": {
    "colab": {
      "provenance": [],
      "collapsed_sections": [
        "S16KSmEmNe1G",
        "9VaIouCuOFer",
        "s8nxnzU-Rxw8",
        "PgQF49jeTULD"
      ],
      "mount_file_id": "1Rgcm8WH6lIYPdiBQLBZapDnxXY8IAWb4",
      "authorship_tag": "ABX9TyMVayIEWr1kcW4ZC6suyeHF",
      "include_colab_link": true
    },
    "kernelspec": {
      "name": "python3",
      "display_name": "Python 3"
    },
    "language_info": {
      "name": "python"
    }
  },
  "cells": [
    {
      "cell_type": "markdown",
      "metadata": {
        "id": "view-in-github",
        "colab_type": "text"
      },
      "source": [
        "<a href=\"https://colab.research.google.com/github/data-aleks/UFO_Sightings_python/blob/main/ufo_sightings_python_analysis.ipynb\" target=\"_parent\"><img src=\"https://colab.research.google.com/assets/colab-badge.svg\" alt=\"Open In Colab\"/></a>"
      ]
    },
    {
      "cell_type": "markdown",
      "source": [
        "# **PT2 Data Analysis of UFO sightings data set** to learn data analysis using python\n",
        "\n",
        "**Project goal:**\n",
        "I want to explore, clean, and analyze UFO sightings from the Kaggle dataset using Python. Learn python data analytics workflow and become comfrotable in using it for data analysis. This is **part 2** of the project where i dive head first in to data cleaning.\n",
        "\n",
        "**Overview of ufo_dataset.csv:**\n",
        "*   datetime - date and time information about the sighting\n",
        "*   city - city where the sighting occured\n",
        "*   state - state where the sighting occured\n",
        "*   country - country where the sighting occured\n",
        "*   shape - shape of the ufo\n",
        "*   duration (seconds) - duration in seconds of the sighting\n",
        "*   duration (hours/min) - duration in hours/minutes of teh sighting\n",
        "*   comments - comment describing sighting\n",
        "*   date posted - date this posting sighting made public\n",
        "*   latitude - latitude information\n",
        "*   longitude - longitude information\n",
        "\n",
        "**Process steps:**\n",
        "1.   Loading data, libraries and performing data explroation\n",
        "  *   Exploring the dataset\n",
        "  *   Changing datetime and date_posted to date type\n",
        "  *   Confirm changes to column type\n",
        "  *   Looking at first/last 5 records\n",
        "2.   Visualising data\n",
        "  *   Visualising UFO sightings over time\n",
        "  *   Visualising most common UFO shapes\n",
        "  *   Visualising sightings by location\n",
        "\n",
        "\n",
        "\n",
        "\n",
        "\n"
      ],
      "metadata": {
        "id": "0iKaYgiHMy8n"
      }
    },
    {
      "cell_type": "markdown",
      "source": [
        "## **Step 1.** Loading data, libraries and performing data explroation\n"
      ],
      "metadata": {
        "id": "S16KSmEmNe1G"
      }
    },
    {
      "cell_type": "code",
      "execution_count": 42,
      "metadata": {
        "id": "4Bta53KcMkQ-"
      },
      "outputs": [],
      "source": [
        "import pandas as pd\n",
        "import numpy as np\n",
        "import matplotlib.pyplot as plt\n",
        "\n",
        "df = pd.read_csv('./drive/MyDrive/datasets/df_clean.csv')"
      ]
    },
    {
      "cell_type": "markdown",
      "source": [
        "### **Step 1.1** Let's explore our dataset using info"
      ],
      "metadata": {
        "id": "9VaIouCuOFer"
      }
    },
    {
      "cell_type": "code",
      "source": [
        "df.info()"
      ],
      "metadata": {
        "colab": {
          "base_uri": "https://localhost:8080/"
        },
        "id": "1MZR6er7OKGl",
        "outputId": "d398a8ce-edf6-4407-e521-2ffb0e2c94b4"
      },
      "execution_count": 43,
      "outputs": [
        {
          "output_type": "stream",
          "name": "stdout",
          "text": [
            "<class 'pandas.core.frame.DataFrame'>\n",
            "RangeIndex: 79561 entries, 0 to 79560\n",
            "Data columns (total 11 columns):\n",
            " #   Column              Non-Null Count  Dtype  \n",
            "---  ------              --------------  -----  \n",
            " 0   datetime            79561 non-null  object \n",
            " 1   city                79561 non-null  object \n",
            " 2   state               79561 non-null  object \n",
            " 3   country             79561 non-null  object \n",
            " 4   shape               79561 non-null  object \n",
            " 5   duration_seconds    79561 non-null  float64\n",
            " 6   duration_hours_min  79561 non-null  float64\n",
            " 7   comments            79561 non-null  object \n",
            " 8   date_posted         79561 non-null  object \n",
            " 9   latitude            79561 non-null  float64\n",
            " 10  longitude           79561 non-null  float64\n",
            "dtypes: float64(4), object(7)\n",
            "memory usage: 6.7+ MB\n"
          ]
        }
      ]
    },
    {
      "cell_type": "markdown",
      "source": [
        "### **Step 1.2** Changing datetime and date_posted to date type"
      ],
      "metadata": {
        "id": "fON092IOPKrr"
      }
    },
    {
      "cell_type": "markdown",
      "source": [
        "First things first, we need to change type of datetime and date_posted column to date type."
      ],
      "metadata": {
        "id": "0Zij1HUfOeFz"
      }
    },
    {
      "cell_type": "code",
      "source": [
        "df['datetime'] = pd.to_datetime(df['datetime'])\n",
        "df['date_posted'] = pd.to_datetime(df['date_posted'])"
      ],
      "metadata": {
        "id": "MK2zETPVOluQ"
      },
      "execution_count": 44,
      "outputs": []
    },
    {
      "cell_type": "markdown",
      "source": [
        "### **Step 1.3** Confirm changes to column type."
      ],
      "metadata": {
        "id": "3GSPcZvxPy3h"
      }
    },
    {
      "cell_type": "markdown",
      "source": [
        "Let's confirm changes."
      ],
      "metadata": {
        "id": "1jeGRc2XO68I"
      }
    },
    {
      "cell_type": "code",
      "source": [
        "df.info()"
      ],
      "metadata": {
        "colab": {
          "base_uri": "https://localhost:8080/"
        },
        "id": "OGCJk279O3w-",
        "outputId": "5f50cff8-fc83-4a4e-88e6-b212a1ba5a7d"
      },
      "execution_count": 45,
      "outputs": [
        {
          "output_type": "stream",
          "name": "stdout",
          "text": [
            "<class 'pandas.core.frame.DataFrame'>\n",
            "RangeIndex: 79561 entries, 0 to 79560\n",
            "Data columns (total 11 columns):\n",
            " #   Column              Non-Null Count  Dtype         \n",
            "---  ------              --------------  -----         \n",
            " 0   datetime            79561 non-null  datetime64[ns]\n",
            " 1   city                79561 non-null  object        \n",
            " 2   state               79561 non-null  object        \n",
            " 3   country             79561 non-null  object        \n",
            " 4   shape               79561 non-null  object        \n",
            " 5   duration_seconds    79561 non-null  float64       \n",
            " 6   duration_hours_min  79561 non-null  float64       \n",
            " 7   comments            79561 non-null  object        \n",
            " 8   date_posted         79561 non-null  datetime64[ns]\n",
            " 9   latitude            79561 non-null  float64       \n",
            " 10  longitude           79561 non-null  float64       \n",
            "dtypes: datetime64[ns](2), float64(4), object(5)\n",
            "memory usage: 6.7+ MB\n"
          ]
        }
      ]
    },
    {
      "cell_type": "markdown",
      "source": [
        "### **Step 1.4** Look at first 5 and last 5 records."
      ],
      "metadata": {
        "id": "5zF9B6C3Qd2Y"
      }
    },
    {
      "cell_type": "code",
      "source": [
        "df.head()"
      ],
      "metadata": {
        "colab": {
          "base_uri": "https://localhost:8080/",
          "height": 0
        },
        "id": "TdILeSWkQmAF",
        "outputId": "d329e65b-9e80-411d-bb9c-7989e11e866f"
      },
      "execution_count": 46,
      "outputs": [
        {
          "output_type": "execute_result",
          "data": {
            "text/plain": [
              "             datetime          city    state country     shape  \\\n",
              "0 1949-10-10 20:30:00    san marcos       tx      us  cylinder   \n",
              "1 1949-10-10 21:00:00  lackland afb       tx      us     light   \n",
              "2 1955-10-10 17:00:00       chester  England      gb    circle   \n",
              "3 1956-10-10 21:00:00          edna       tx      us    circle   \n",
              "4 1960-10-10 20:00:00       kaneohe       hi      us     light   \n",
              "\n",
              "   duration_seconds  duration_hours_min  \\\n",
              "0            2700.0               0.750   \n",
              "1            7200.0               2.000   \n",
              "2              20.0               0.006   \n",
              "3              20.0               0.006   \n",
              "4             900.0               0.250   \n",
              "\n",
              "                                            comments date_posted   latitude  \\\n",
              "0  This event took place in early fall around 194...  2004-04-27  29.883056   \n",
              "1  1949 Lackland AFB, TX.  Lights racing across t...  2005-12-16  29.384210   \n",
              "2   Green/Orange circular disc over Chester, England  2008-01-21  53.200000   \n",
              "3  My older brother and twin sister were leaving ...  2004-01-17  28.978333   \n",
              "4  AS a Marine 1st Lt. flying an FJ4B fighter/att...  2004-01-22  21.418056   \n",
              "\n",
              "    longitude  \n",
              "0  -97.941111  \n",
              "1  -98.581082  \n",
              "2   -2.916667  \n",
              "3  -96.645833  \n",
              "4 -157.803611  "
            ],
            "text/html": [
              "\n",
              "  <div id=\"df-0572521f-f1d3-4318-a0d1-d295675224e4\" class=\"colab-df-container\">\n",
              "    <div>\n",
              "<style scoped>\n",
              "    .dataframe tbody tr th:only-of-type {\n",
              "        vertical-align: middle;\n",
              "    }\n",
              "\n",
              "    .dataframe tbody tr th {\n",
              "        vertical-align: top;\n",
              "    }\n",
              "\n",
              "    .dataframe thead th {\n",
              "        text-align: right;\n",
              "    }\n",
              "</style>\n",
              "<table border=\"1\" class=\"dataframe\">\n",
              "  <thead>\n",
              "    <tr style=\"text-align: right;\">\n",
              "      <th></th>\n",
              "      <th>datetime</th>\n",
              "      <th>city</th>\n",
              "      <th>state</th>\n",
              "      <th>country</th>\n",
              "      <th>shape</th>\n",
              "      <th>duration_seconds</th>\n",
              "      <th>duration_hours_min</th>\n",
              "      <th>comments</th>\n",
              "      <th>date_posted</th>\n",
              "      <th>latitude</th>\n",
              "      <th>longitude</th>\n",
              "    </tr>\n",
              "  </thead>\n",
              "  <tbody>\n",
              "    <tr>\n",
              "      <th>0</th>\n",
              "      <td>1949-10-10 20:30:00</td>\n",
              "      <td>san marcos</td>\n",
              "      <td>tx</td>\n",
              "      <td>us</td>\n",
              "      <td>cylinder</td>\n",
              "      <td>2700.0</td>\n",
              "      <td>0.750</td>\n",
              "      <td>This event took place in early fall around 194...</td>\n",
              "      <td>2004-04-27</td>\n",
              "      <td>29.883056</td>\n",
              "      <td>-97.941111</td>\n",
              "    </tr>\n",
              "    <tr>\n",
              "      <th>1</th>\n",
              "      <td>1949-10-10 21:00:00</td>\n",
              "      <td>lackland afb</td>\n",
              "      <td>tx</td>\n",
              "      <td>us</td>\n",
              "      <td>light</td>\n",
              "      <td>7200.0</td>\n",
              "      <td>2.000</td>\n",
              "      <td>1949 Lackland AFB, TX.  Lights racing across t...</td>\n",
              "      <td>2005-12-16</td>\n",
              "      <td>29.384210</td>\n",
              "      <td>-98.581082</td>\n",
              "    </tr>\n",
              "    <tr>\n",
              "      <th>2</th>\n",
              "      <td>1955-10-10 17:00:00</td>\n",
              "      <td>chester</td>\n",
              "      <td>England</td>\n",
              "      <td>gb</td>\n",
              "      <td>circle</td>\n",
              "      <td>20.0</td>\n",
              "      <td>0.006</td>\n",
              "      <td>Green/Orange circular disc over Chester, England</td>\n",
              "      <td>2008-01-21</td>\n",
              "      <td>53.200000</td>\n",
              "      <td>-2.916667</td>\n",
              "    </tr>\n",
              "    <tr>\n",
              "      <th>3</th>\n",
              "      <td>1956-10-10 21:00:00</td>\n",
              "      <td>edna</td>\n",
              "      <td>tx</td>\n",
              "      <td>us</td>\n",
              "      <td>circle</td>\n",
              "      <td>20.0</td>\n",
              "      <td>0.006</td>\n",
              "      <td>My older brother and twin sister were leaving ...</td>\n",
              "      <td>2004-01-17</td>\n",
              "      <td>28.978333</td>\n",
              "      <td>-96.645833</td>\n",
              "    </tr>\n",
              "    <tr>\n",
              "      <th>4</th>\n",
              "      <td>1960-10-10 20:00:00</td>\n",
              "      <td>kaneohe</td>\n",
              "      <td>hi</td>\n",
              "      <td>us</td>\n",
              "      <td>light</td>\n",
              "      <td>900.0</td>\n",
              "      <td>0.250</td>\n",
              "      <td>AS a Marine 1st Lt. flying an FJ4B fighter/att...</td>\n",
              "      <td>2004-01-22</td>\n",
              "      <td>21.418056</td>\n",
              "      <td>-157.803611</td>\n",
              "    </tr>\n",
              "  </tbody>\n",
              "</table>\n",
              "</div>\n",
              "    <div class=\"colab-df-buttons\">\n",
              "\n",
              "  <div class=\"colab-df-container\">\n",
              "    <button class=\"colab-df-convert\" onclick=\"convertToInteractive('df-0572521f-f1d3-4318-a0d1-d295675224e4')\"\n",
              "            title=\"Convert this dataframe to an interactive table.\"\n",
              "            style=\"display:none;\">\n",
              "\n",
              "  <svg xmlns=\"http://www.w3.org/2000/svg\" height=\"24px\" viewBox=\"0 -960 960 960\">\n",
              "    <path d=\"M120-120v-720h720v720H120Zm60-500h600v-160H180v160Zm220 220h160v-160H400v160Zm0 220h160v-160H400v160ZM180-400h160v-160H180v160Zm440 0h160v-160H620v160ZM180-180h160v-160H180v160Zm440 0h160v-160H620v160Z\"/>\n",
              "  </svg>\n",
              "    </button>\n",
              "\n",
              "  <style>\n",
              "    .colab-df-container {\n",
              "      display:flex;\n",
              "      gap: 12px;\n",
              "    }\n",
              "\n",
              "    .colab-df-convert {\n",
              "      background-color: #E8F0FE;\n",
              "      border: none;\n",
              "      border-radius: 50%;\n",
              "      cursor: pointer;\n",
              "      display: none;\n",
              "      fill: #1967D2;\n",
              "      height: 32px;\n",
              "      padding: 0 0 0 0;\n",
              "      width: 32px;\n",
              "    }\n",
              "\n",
              "    .colab-df-convert:hover {\n",
              "      background-color: #E2EBFA;\n",
              "      box-shadow: 0px 1px 2px rgba(60, 64, 67, 0.3), 0px 1px 3px 1px rgba(60, 64, 67, 0.15);\n",
              "      fill: #174EA6;\n",
              "    }\n",
              "\n",
              "    .colab-df-buttons div {\n",
              "      margin-bottom: 4px;\n",
              "    }\n",
              "\n",
              "    [theme=dark] .colab-df-convert {\n",
              "      background-color: #3B4455;\n",
              "      fill: #D2E3FC;\n",
              "    }\n",
              "\n",
              "    [theme=dark] .colab-df-convert:hover {\n",
              "      background-color: #434B5C;\n",
              "      box-shadow: 0px 1px 3px 1px rgba(0, 0, 0, 0.15);\n",
              "      filter: drop-shadow(0px 1px 2px rgba(0, 0, 0, 0.3));\n",
              "      fill: #FFFFFF;\n",
              "    }\n",
              "  </style>\n",
              "\n",
              "    <script>\n",
              "      const buttonEl =\n",
              "        document.querySelector('#df-0572521f-f1d3-4318-a0d1-d295675224e4 button.colab-df-convert');\n",
              "      buttonEl.style.display =\n",
              "        google.colab.kernel.accessAllowed ? 'block' : 'none';\n",
              "\n",
              "      async function convertToInteractive(key) {\n",
              "        const element = document.querySelector('#df-0572521f-f1d3-4318-a0d1-d295675224e4');\n",
              "        const dataTable =\n",
              "          await google.colab.kernel.invokeFunction('convertToInteractive',\n",
              "                                                    [key], {});\n",
              "        if (!dataTable) return;\n",
              "\n",
              "        const docLinkHtml = 'Like what you see? Visit the ' +\n",
              "          '<a target=\"_blank\" href=https://colab.research.google.com/notebooks/data_table.ipynb>data table notebook</a>'\n",
              "          + ' to learn more about interactive tables.';\n",
              "        element.innerHTML = '';\n",
              "        dataTable['output_type'] = 'display_data';\n",
              "        await google.colab.output.renderOutput(dataTable, element);\n",
              "        const docLink = document.createElement('div');\n",
              "        docLink.innerHTML = docLinkHtml;\n",
              "        element.appendChild(docLink);\n",
              "      }\n",
              "    </script>\n",
              "  </div>\n",
              "\n",
              "\n",
              "    <div id=\"df-b564bcd5-259e-4266-99ce-d7e8cb8e344b\">\n",
              "      <button class=\"colab-df-quickchart\" onclick=\"quickchart('df-b564bcd5-259e-4266-99ce-d7e8cb8e344b')\"\n",
              "                title=\"Suggest charts\"\n",
              "                style=\"display:none;\">\n",
              "\n",
              "<svg xmlns=\"http://www.w3.org/2000/svg\" height=\"24px\"viewBox=\"0 0 24 24\"\n",
              "     width=\"24px\">\n",
              "    <g>\n",
              "        <path d=\"M19 3H5c-1.1 0-2 .9-2 2v14c0 1.1.9 2 2 2h14c1.1 0 2-.9 2-2V5c0-1.1-.9-2-2-2zM9 17H7v-7h2v7zm4 0h-2V7h2v10zm4 0h-2v-4h2v4z\"/>\n",
              "    </g>\n",
              "</svg>\n",
              "      </button>\n",
              "\n",
              "<style>\n",
              "  .colab-df-quickchart {\n",
              "      --bg-color: #E8F0FE;\n",
              "      --fill-color: #1967D2;\n",
              "      --hover-bg-color: #E2EBFA;\n",
              "      --hover-fill-color: #174EA6;\n",
              "      --disabled-fill-color: #AAA;\n",
              "      --disabled-bg-color: #DDD;\n",
              "  }\n",
              "\n",
              "  [theme=dark] .colab-df-quickchart {\n",
              "      --bg-color: #3B4455;\n",
              "      --fill-color: #D2E3FC;\n",
              "      --hover-bg-color: #434B5C;\n",
              "      --hover-fill-color: #FFFFFF;\n",
              "      --disabled-bg-color: #3B4455;\n",
              "      --disabled-fill-color: #666;\n",
              "  }\n",
              "\n",
              "  .colab-df-quickchart {\n",
              "    background-color: var(--bg-color);\n",
              "    border: none;\n",
              "    border-radius: 50%;\n",
              "    cursor: pointer;\n",
              "    display: none;\n",
              "    fill: var(--fill-color);\n",
              "    height: 32px;\n",
              "    padding: 0;\n",
              "    width: 32px;\n",
              "  }\n",
              "\n",
              "  .colab-df-quickchart:hover {\n",
              "    background-color: var(--hover-bg-color);\n",
              "    box-shadow: 0 1px 2px rgba(60, 64, 67, 0.3), 0 1px 3px 1px rgba(60, 64, 67, 0.15);\n",
              "    fill: var(--button-hover-fill-color);\n",
              "  }\n",
              "\n",
              "  .colab-df-quickchart-complete:disabled,\n",
              "  .colab-df-quickchart-complete:disabled:hover {\n",
              "    background-color: var(--disabled-bg-color);\n",
              "    fill: var(--disabled-fill-color);\n",
              "    box-shadow: none;\n",
              "  }\n",
              "\n",
              "  .colab-df-spinner {\n",
              "    border: 2px solid var(--fill-color);\n",
              "    border-color: transparent;\n",
              "    border-bottom-color: var(--fill-color);\n",
              "    animation:\n",
              "      spin 1s steps(1) infinite;\n",
              "  }\n",
              "\n",
              "  @keyframes spin {\n",
              "    0% {\n",
              "      border-color: transparent;\n",
              "      border-bottom-color: var(--fill-color);\n",
              "      border-left-color: var(--fill-color);\n",
              "    }\n",
              "    20% {\n",
              "      border-color: transparent;\n",
              "      border-left-color: var(--fill-color);\n",
              "      border-top-color: var(--fill-color);\n",
              "    }\n",
              "    30% {\n",
              "      border-color: transparent;\n",
              "      border-left-color: var(--fill-color);\n",
              "      border-top-color: var(--fill-color);\n",
              "      border-right-color: var(--fill-color);\n",
              "    }\n",
              "    40% {\n",
              "      border-color: transparent;\n",
              "      border-right-color: var(--fill-color);\n",
              "      border-top-color: var(--fill-color);\n",
              "    }\n",
              "    60% {\n",
              "      border-color: transparent;\n",
              "      border-right-color: var(--fill-color);\n",
              "    }\n",
              "    80% {\n",
              "      border-color: transparent;\n",
              "      border-right-color: var(--fill-color);\n",
              "      border-bottom-color: var(--fill-color);\n",
              "    }\n",
              "    90% {\n",
              "      border-color: transparent;\n",
              "      border-bottom-color: var(--fill-color);\n",
              "    }\n",
              "  }\n",
              "</style>\n",
              "\n",
              "      <script>\n",
              "        async function quickchart(key) {\n",
              "          const quickchartButtonEl =\n",
              "            document.querySelector('#' + key + ' button');\n",
              "          quickchartButtonEl.disabled = true;  // To prevent multiple clicks.\n",
              "          quickchartButtonEl.classList.add('colab-df-spinner');\n",
              "          try {\n",
              "            const charts = await google.colab.kernel.invokeFunction(\n",
              "                'suggestCharts', [key], {});\n",
              "          } catch (error) {\n",
              "            console.error('Error during call to suggestCharts:', error);\n",
              "          }\n",
              "          quickchartButtonEl.classList.remove('colab-df-spinner');\n",
              "          quickchartButtonEl.classList.add('colab-df-quickchart-complete');\n",
              "        }\n",
              "        (() => {\n",
              "          let quickchartButtonEl =\n",
              "            document.querySelector('#df-b564bcd5-259e-4266-99ce-d7e8cb8e344b button');\n",
              "          quickchartButtonEl.style.display =\n",
              "            google.colab.kernel.accessAllowed ? 'block' : 'none';\n",
              "        })();\n",
              "      </script>\n",
              "    </div>\n",
              "\n",
              "    </div>\n",
              "  </div>\n"
            ],
            "application/vnd.google.colaboratory.intrinsic+json": {
              "type": "dataframe",
              "variable_name": "df",
              "summary": "{\n  \"name\": \"df\",\n  \"rows\": 79561,\n  \"fields\": [\n    {\n      \"column\": \"datetime\",\n      \"properties\": {\n        \"dtype\": \"date\",\n        \"min\": \"1906-11-11 00:00:00\",\n        \"max\": \"2014-05-08 18:45:00\",\n        \"num_unique_values\": 68890,\n        \"samples\": [\n          \"2010-05-24 14:30:00\",\n          \"2012-06-17 03:45:00\",\n          \"2001-05-28 23:05:00\"\n        ],\n        \"semantic_type\": \"\",\n        \"description\": \"\"\n      }\n    },\n    {\n      \"column\": \"city\",\n      \"properties\": {\n        \"dtype\": \"category\",\n        \"num_unique_values\": 16652,\n        \"samples\": [\n          \"roshnee\",\n          \"elk grove village\",\n          \"kuantan\"\n        ],\n        \"semantic_type\": \"\",\n        \"description\": \"\"\n      }\n    },\n    {\n      \"column\": \"state\",\n      \"properties\": {\n        \"dtype\": \"category\",\n        \"num_unique_values\": 893,\n        \"samples\": [\n          \"Liguria\",\n          \"Kamphaeng Phet Province\",\n          \"Lima\"\n        ],\n        \"semantic_type\": \"\",\n        \"description\": \"\"\n      }\n    },\n    {\n      \"column\": \"country\",\n      \"properties\": {\n        \"dtype\": \"category\",\n        \"num_unique_values\": 151,\n        \"samples\": [\n          \"ba\",\n          \"iq\",\n          \"br\"\n        ],\n        \"semantic_type\": \"\",\n        \"description\": \"\"\n      }\n    },\n    {\n      \"column\": \"shape\",\n      \"properties\": {\n        \"dtype\": \"category\",\n        \"num_unique_values\": 28,\n        \"samples\": [\n          \"cigar\",\n          \"flare\",\n          \"other\"\n        ],\n        \"semantic_type\": \"\",\n        \"description\": \"\"\n      }\n    },\n    {\n      \"column\": \"duration_seconds\",\n      \"properties\": {\n        \"dtype\": \"number\",\n        \"std\": 593367.8187363866,\n        \"min\": 0.001,\n        \"max\": 97836000.0,\n        \"num_unique_values\": 525,\n        \"samples\": [\n          1265.0,\n          60.2,\n          1200.0\n        ],\n        \"semantic_type\": \"\",\n        \"description\": \"\"\n      }\n    },\n    {\n      \"column\": \"duration_hours_min\",\n      \"properties\": {\n        \"dtype\": \"number\",\n        \"std\": 164.82439559935563,\n        \"min\": 0.0,\n        \"max\": 27176.667,\n        \"num_unique_values\": 371,\n        \"samples\": [\n          0.767,\n          0.417,\n          1.0\n        ],\n        \"semantic_type\": \"\",\n        \"description\": \"\"\n      }\n    },\n    {\n      \"column\": \"comments\",\n      \"properties\": {\n        \"dtype\": \"string\",\n        \"num_unique_values\": 79234,\n        \"samples\": [\n          \"Chinese lanterns with orange glow very popular in the Myrtle Beach area.\",\n          \"Really bright object shooting beams.\",\n          \"IT was a  glowing like person without a neck a big head at the top and small at the bottom.\"\n        ],\n        \"semantic_type\": \"\",\n        \"description\": \"\"\n      }\n    },\n    {\n      \"column\": \"date_posted\",\n      \"properties\": {\n        \"dtype\": \"date\",\n        \"min\": \"1998-03-07 00:00:00\",\n        \"max\": \"2014-05-08 00:00:00\",\n        \"num_unique_values\": 317,\n        \"samples\": [\n          \"2006-05-15 00:00:00\",\n          \"2010-07-29 00:00:00\",\n          \"2004-03-17 00:00:00\"\n        ],\n        \"semantic_type\": \"\",\n        \"description\": \"\"\n      }\n    },\n    {\n      \"column\": \"latitude\",\n      \"properties\": {\n        \"dtype\": \"number\",\n        \"std\": 10.348702980991785,\n        \"min\": -46.413187,\n        \"max\": 72.7,\n        \"num_unique_values\": 18288,\n        \"samples\": [\n          39.41955,\n          41.1180556,\n          44.349821\n        ],\n        \"semantic_type\": \"\",\n        \"description\": \"\"\n      }\n    },\n    {\n      \"column\": \"longitude\",\n      \"properties\": {\n        \"dtype\": \"number\",\n        \"std\": 39.51607946709259,\n        \"min\": -173.985008,\n        \"max\": 178.4419,\n        \"num_unique_values\": 19320,\n        \"samples\": [\n          -89.731773,\n          -82.8108333,\n          -84.0752778\n        ],\n        \"semantic_type\": \"\",\n        \"description\": \"\"\n      }\n    }\n  ]\n}"
            }
          },
          "metadata": {},
          "execution_count": 46
        }
      ]
    },
    {
      "cell_type": "code",
      "source": [
        "df.tail()"
      ],
      "metadata": {
        "colab": {
          "base_uri": "https://localhost:8080/",
          "height": 0
        },
        "id": "Z5WFWJATQpZQ",
        "outputId": "762a5e97-fb24-4dd2-fc34-56c5abf7e8bc"
      },
      "execution_count": 47,
      "outputs": [
        {
          "output_type": "execute_result",
          "data": {
            "text/plain": [
              "                 datetime       city state country   shape  duration_seconds  \\\n",
              "79556 2013-09-09 21:15:00  nashville    tn      us   light             600.0   \n",
              "79557 2013-09-09 22:00:00      boise    id      us  circle            1200.0   \n",
              "79558 2013-09-09 22:00:00       napa    ca      us   other            1200.0   \n",
              "79559 2013-09-09 22:20:00     vienna    va      us  circle               5.0   \n",
              "79560 2013-09-09 23:00:00     edmond    ok      us   cigar            1020.0   \n",
              "\n",
              "       duration_hours_min                                           comments  \\\n",
              "79556               0.167  Round from the distance/slowly changing colors...   \n",
              "79557               0.333  Boise, ID, spherical, 20 min, 10 red lights, s...   \n",
              "79558               0.333                                          Napa UFO,   \n",
              "79559               0.001  Saw a five gold lit cicular craft moving fastl...   \n",
              "79560               0.283  2 witnesses 2  miles apart, Red & White Elonga...   \n",
              "\n",
              "      date_posted   latitude   longitude  \n",
              "79556  2013-09-30  36.165833  -86.784444  \n",
              "79557  2013-09-30  43.613611 -116.202500  \n",
              "79558  2013-09-30  38.297222 -122.284444  \n",
              "79559  2013-09-30  38.901111  -77.265556  \n",
              "79560  2013-09-30  35.652778  -97.477778  "
            ],
            "text/html": [
              "\n",
              "  <div id=\"df-d4fc7272-229b-49d7-b1e0-192ca0843dae\" class=\"colab-df-container\">\n",
              "    <div>\n",
              "<style scoped>\n",
              "    .dataframe tbody tr th:only-of-type {\n",
              "        vertical-align: middle;\n",
              "    }\n",
              "\n",
              "    .dataframe tbody tr th {\n",
              "        vertical-align: top;\n",
              "    }\n",
              "\n",
              "    .dataframe thead th {\n",
              "        text-align: right;\n",
              "    }\n",
              "</style>\n",
              "<table border=\"1\" class=\"dataframe\">\n",
              "  <thead>\n",
              "    <tr style=\"text-align: right;\">\n",
              "      <th></th>\n",
              "      <th>datetime</th>\n",
              "      <th>city</th>\n",
              "      <th>state</th>\n",
              "      <th>country</th>\n",
              "      <th>shape</th>\n",
              "      <th>duration_seconds</th>\n",
              "      <th>duration_hours_min</th>\n",
              "      <th>comments</th>\n",
              "      <th>date_posted</th>\n",
              "      <th>latitude</th>\n",
              "      <th>longitude</th>\n",
              "    </tr>\n",
              "  </thead>\n",
              "  <tbody>\n",
              "    <tr>\n",
              "      <th>79556</th>\n",
              "      <td>2013-09-09 21:15:00</td>\n",
              "      <td>nashville</td>\n",
              "      <td>tn</td>\n",
              "      <td>us</td>\n",
              "      <td>light</td>\n",
              "      <td>600.0</td>\n",
              "      <td>0.167</td>\n",
              "      <td>Round from the distance/slowly changing colors...</td>\n",
              "      <td>2013-09-30</td>\n",
              "      <td>36.165833</td>\n",
              "      <td>-86.784444</td>\n",
              "    </tr>\n",
              "    <tr>\n",
              "      <th>79557</th>\n",
              "      <td>2013-09-09 22:00:00</td>\n",
              "      <td>boise</td>\n",
              "      <td>id</td>\n",
              "      <td>us</td>\n",
              "      <td>circle</td>\n",
              "      <td>1200.0</td>\n",
              "      <td>0.333</td>\n",
              "      <td>Boise, ID, spherical, 20 min, 10 red lights, s...</td>\n",
              "      <td>2013-09-30</td>\n",
              "      <td>43.613611</td>\n",
              "      <td>-116.202500</td>\n",
              "    </tr>\n",
              "    <tr>\n",
              "      <th>79558</th>\n",
              "      <td>2013-09-09 22:00:00</td>\n",
              "      <td>napa</td>\n",
              "      <td>ca</td>\n",
              "      <td>us</td>\n",
              "      <td>other</td>\n",
              "      <td>1200.0</td>\n",
              "      <td>0.333</td>\n",
              "      <td>Napa UFO,</td>\n",
              "      <td>2013-09-30</td>\n",
              "      <td>38.297222</td>\n",
              "      <td>-122.284444</td>\n",
              "    </tr>\n",
              "    <tr>\n",
              "      <th>79559</th>\n",
              "      <td>2013-09-09 22:20:00</td>\n",
              "      <td>vienna</td>\n",
              "      <td>va</td>\n",
              "      <td>us</td>\n",
              "      <td>circle</td>\n",
              "      <td>5.0</td>\n",
              "      <td>0.001</td>\n",
              "      <td>Saw a five gold lit cicular craft moving fastl...</td>\n",
              "      <td>2013-09-30</td>\n",
              "      <td>38.901111</td>\n",
              "      <td>-77.265556</td>\n",
              "    </tr>\n",
              "    <tr>\n",
              "      <th>79560</th>\n",
              "      <td>2013-09-09 23:00:00</td>\n",
              "      <td>edmond</td>\n",
              "      <td>ok</td>\n",
              "      <td>us</td>\n",
              "      <td>cigar</td>\n",
              "      <td>1020.0</td>\n",
              "      <td>0.283</td>\n",
              "      <td>2 witnesses 2  miles apart, Red &amp; White Elonga...</td>\n",
              "      <td>2013-09-30</td>\n",
              "      <td>35.652778</td>\n",
              "      <td>-97.477778</td>\n",
              "    </tr>\n",
              "  </tbody>\n",
              "</table>\n",
              "</div>\n",
              "    <div class=\"colab-df-buttons\">\n",
              "\n",
              "  <div class=\"colab-df-container\">\n",
              "    <button class=\"colab-df-convert\" onclick=\"convertToInteractive('df-d4fc7272-229b-49d7-b1e0-192ca0843dae')\"\n",
              "            title=\"Convert this dataframe to an interactive table.\"\n",
              "            style=\"display:none;\">\n",
              "\n",
              "  <svg xmlns=\"http://www.w3.org/2000/svg\" height=\"24px\" viewBox=\"0 -960 960 960\">\n",
              "    <path d=\"M120-120v-720h720v720H120Zm60-500h600v-160H180v160Zm220 220h160v-160H400v160Zm0 220h160v-160H400v160ZM180-400h160v-160H180v160Zm440 0h160v-160H620v160ZM180-180h160v-160H180v160Zm440 0h160v-160H620v160Z\"/>\n",
              "  </svg>\n",
              "    </button>\n",
              "\n",
              "  <style>\n",
              "    .colab-df-container {\n",
              "      display:flex;\n",
              "      gap: 12px;\n",
              "    }\n",
              "\n",
              "    .colab-df-convert {\n",
              "      background-color: #E8F0FE;\n",
              "      border: none;\n",
              "      border-radius: 50%;\n",
              "      cursor: pointer;\n",
              "      display: none;\n",
              "      fill: #1967D2;\n",
              "      height: 32px;\n",
              "      padding: 0 0 0 0;\n",
              "      width: 32px;\n",
              "    }\n",
              "\n",
              "    .colab-df-convert:hover {\n",
              "      background-color: #E2EBFA;\n",
              "      box-shadow: 0px 1px 2px rgba(60, 64, 67, 0.3), 0px 1px 3px 1px rgba(60, 64, 67, 0.15);\n",
              "      fill: #174EA6;\n",
              "    }\n",
              "\n",
              "    .colab-df-buttons div {\n",
              "      margin-bottom: 4px;\n",
              "    }\n",
              "\n",
              "    [theme=dark] .colab-df-convert {\n",
              "      background-color: #3B4455;\n",
              "      fill: #D2E3FC;\n",
              "    }\n",
              "\n",
              "    [theme=dark] .colab-df-convert:hover {\n",
              "      background-color: #434B5C;\n",
              "      box-shadow: 0px 1px 3px 1px rgba(0, 0, 0, 0.15);\n",
              "      filter: drop-shadow(0px 1px 2px rgba(0, 0, 0, 0.3));\n",
              "      fill: #FFFFFF;\n",
              "    }\n",
              "  </style>\n",
              "\n",
              "    <script>\n",
              "      const buttonEl =\n",
              "        document.querySelector('#df-d4fc7272-229b-49d7-b1e0-192ca0843dae button.colab-df-convert');\n",
              "      buttonEl.style.display =\n",
              "        google.colab.kernel.accessAllowed ? 'block' : 'none';\n",
              "\n",
              "      async function convertToInteractive(key) {\n",
              "        const element = document.querySelector('#df-d4fc7272-229b-49d7-b1e0-192ca0843dae');\n",
              "        const dataTable =\n",
              "          await google.colab.kernel.invokeFunction('convertToInteractive',\n",
              "                                                    [key], {});\n",
              "        if (!dataTable) return;\n",
              "\n",
              "        const docLinkHtml = 'Like what you see? Visit the ' +\n",
              "          '<a target=\"_blank\" href=https://colab.research.google.com/notebooks/data_table.ipynb>data table notebook</a>'\n",
              "          + ' to learn more about interactive tables.';\n",
              "        element.innerHTML = '';\n",
              "        dataTable['output_type'] = 'display_data';\n",
              "        await google.colab.output.renderOutput(dataTable, element);\n",
              "        const docLink = document.createElement('div');\n",
              "        docLink.innerHTML = docLinkHtml;\n",
              "        element.appendChild(docLink);\n",
              "      }\n",
              "    </script>\n",
              "  </div>\n",
              "\n",
              "\n",
              "    <div id=\"df-0db2f55f-4c0d-481c-b12a-efe79b5460a6\">\n",
              "      <button class=\"colab-df-quickchart\" onclick=\"quickchart('df-0db2f55f-4c0d-481c-b12a-efe79b5460a6')\"\n",
              "                title=\"Suggest charts\"\n",
              "                style=\"display:none;\">\n",
              "\n",
              "<svg xmlns=\"http://www.w3.org/2000/svg\" height=\"24px\"viewBox=\"0 0 24 24\"\n",
              "     width=\"24px\">\n",
              "    <g>\n",
              "        <path d=\"M19 3H5c-1.1 0-2 .9-2 2v14c0 1.1.9 2 2 2h14c1.1 0 2-.9 2-2V5c0-1.1-.9-2-2-2zM9 17H7v-7h2v7zm4 0h-2V7h2v10zm4 0h-2v-4h2v4z\"/>\n",
              "    </g>\n",
              "</svg>\n",
              "      </button>\n",
              "\n",
              "<style>\n",
              "  .colab-df-quickchart {\n",
              "      --bg-color: #E8F0FE;\n",
              "      --fill-color: #1967D2;\n",
              "      --hover-bg-color: #E2EBFA;\n",
              "      --hover-fill-color: #174EA6;\n",
              "      --disabled-fill-color: #AAA;\n",
              "      --disabled-bg-color: #DDD;\n",
              "  }\n",
              "\n",
              "  [theme=dark] .colab-df-quickchart {\n",
              "      --bg-color: #3B4455;\n",
              "      --fill-color: #D2E3FC;\n",
              "      --hover-bg-color: #434B5C;\n",
              "      --hover-fill-color: #FFFFFF;\n",
              "      --disabled-bg-color: #3B4455;\n",
              "      --disabled-fill-color: #666;\n",
              "  }\n",
              "\n",
              "  .colab-df-quickchart {\n",
              "    background-color: var(--bg-color);\n",
              "    border: none;\n",
              "    border-radius: 50%;\n",
              "    cursor: pointer;\n",
              "    display: none;\n",
              "    fill: var(--fill-color);\n",
              "    height: 32px;\n",
              "    padding: 0;\n",
              "    width: 32px;\n",
              "  }\n",
              "\n",
              "  .colab-df-quickchart:hover {\n",
              "    background-color: var(--hover-bg-color);\n",
              "    box-shadow: 0 1px 2px rgba(60, 64, 67, 0.3), 0 1px 3px 1px rgba(60, 64, 67, 0.15);\n",
              "    fill: var(--button-hover-fill-color);\n",
              "  }\n",
              "\n",
              "  .colab-df-quickchart-complete:disabled,\n",
              "  .colab-df-quickchart-complete:disabled:hover {\n",
              "    background-color: var(--disabled-bg-color);\n",
              "    fill: var(--disabled-fill-color);\n",
              "    box-shadow: none;\n",
              "  }\n",
              "\n",
              "  .colab-df-spinner {\n",
              "    border: 2px solid var(--fill-color);\n",
              "    border-color: transparent;\n",
              "    border-bottom-color: var(--fill-color);\n",
              "    animation:\n",
              "      spin 1s steps(1) infinite;\n",
              "  }\n",
              "\n",
              "  @keyframes spin {\n",
              "    0% {\n",
              "      border-color: transparent;\n",
              "      border-bottom-color: var(--fill-color);\n",
              "      border-left-color: var(--fill-color);\n",
              "    }\n",
              "    20% {\n",
              "      border-color: transparent;\n",
              "      border-left-color: var(--fill-color);\n",
              "      border-top-color: var(--fill-color);\n",
              "    }\n",
              "    30% {\n",
              "      border-color: transparent;\n",
              "      border-left-color: var(--fill-color);\n",
              "      border-top-color: var(--fill-color);\n",
              "      border-right-color: var(--fill-color);\n",
              "    }\n",
              "    40% {\n",
              "      border-color: transparent;\n",
              "      border-right-color: var(--fill-color);\n",
              "      border-top-color: var(--fill-color);\n",
              "    }\n",
              "    60% {\n",
              "      border-color: transparent;\n",
              "      border-right-color: var(--fill-color);\n",
              "    }\n",
              "    80% {\n",
              "      border-color: transparent;\n",
              "      border-right-color: var(--fill-color);\n",
              "      border-bottom-color: var(--fill-color);\n",
              "    }\n",
              "    90% {\n",
              "      border-color: transparent;\n",
              "      border-bottom-color: var(--fill-color);\n",
              "    }\n",
              "  }\n",
              "</style>\n",
              "\n",
              "      <script>\n",
              "        async function quickchart(key) {\n",
              "          const quickchartButtonEl =\n",
              "            document.querySelector('#' + key + ' button');\n",
              "          quickchartButtonEl.disabled = true;  // To prevent multiple clicks.\n",
              "          quickchartButtonEl.classList.add('colab-df-spinner');\n",
              "          try {\n",
              "            const charts = await google.colab.kernel.invokeFunction(\n",
              "                'suggestCharts', [key], {});\n",
              "          } catch (error) {\n",
              "            console.error('Error during call to suggestCharts:', error);\n",
              "          }\n",
              "          quickchartButtonEl.classList.remove('colab-df-spinner');\n",
              "          quickchartButtonEl.classList.add('colab-df-quickchart-complete');\n",
              "        }\n",
              "        (() => {\n",
              "          let quickchartButtonEl =\n",
              "            document.querySelector('#df-0db2f55f-4c0d-481c-b12a-efe79b5460a6 button');\n",
              "          quickchartButtonEl.style.display =\n",
              "            google.colab.kernel.accessAllowed ? 'block' : 'none';\n",
              "        })();\n",
              "      </script>\n",
              "    </div>\n",
              "\n",
              "    </div>\n",
              "  </div>\n"
            ],
            "application/vnd.google.colaboratory.intrinsic+json": {
              "type": "dataframe",
              "summary": "{\n  \"name\": \"df\",\n  \"rows\": 5,\n  \"fields\": [\n    {\n      \"column\": \"datetime\",\n      \"properties\": {\n        \"dtype\": \"date\",\n        \"min\": \"2013-09-09 21:15:00\",\n        \"max\": \"2013-09-09 23:00:00\",\n        \"num_unique_values\": 4,\n        \"samples\": [\n          \"2013-09-09 22:00:00\",\n          \"2013-09-09 23:00:00\",\n          \"2013-09-09 21:15:00\"\n        ],\n        \"semantic_type\": \"\",\n        \"description\": \"\"\n      }\n    },\n    {\n      \"column\": \"city\",\n      \"properties\": {\n        \"dtype\": \"string\",\n        \"num_unique_values\": 5,\n        \"samples\": [\n          \"boise\",\n          \"edmond\",\n          \"napa\"\n        ],\n        \"semantic_type\": \"\",\n        \"description\": \"\"\n      }\n    },\n    {\n      \"column\": \"state\",\n      \"properties\": {\n        \"dtype\": \"string\",\n        \"num_unique_values\": 5,\n        \"samples\": [\n          \"id\",\n          \"ok\",\n          \"ca\"\n        ],\n        \"semantic_type\": \"\",\n        \"description\": \"\"\n      }\n    },\n    {\n      \"column\": \"country\",\n      \"properties\": {\n        \"dtype\": \"category\",\n        \"num_unique_values\": 1,\n        \"samples\": [\n          \"us\"\n        ],\n        \"semantic_type\": \"\",\n        \"description\": \"\"\n      }\n    },\n    {\n      \"column\": \"shape\",\n      \"properties\": {\n        \"dtype\": \"string\",\n        \"num_unique_values\": 4,\n        \"samples\": [\n          \"circle\"\n        ],\n        \"semantic_type\": \"\",\n        \"description\": \"\"\n      }\n    },\n    {\n      \"column\": \"duration_seconds\",\n      \"properties\": {\n        \"dtype\": \"number\",\n        \"std\": 509.97548960709867,\n        \"min\": 5.0,\n        \"max\": 1200.0,\n        \"num_unique_values\": 4,\n        \"samples\": [\n          1200.0\n        ],\n        \"semantic_type\": \"\",\n        \"description\": \"\"\n      }\n    },\n    {\n      \"column\": \"duration_hours_min\",\n      \"properties\": {\n        \"dtype\": \"number\",\n        \"std\": 0.1416149709599942,\n        \"min\": 0.001,\n        \"max\": 0.333,\n        \"num_unique_values\": 4,\n        \"samples\": [\n          0.333\n        ],\n        \"semantic_type\": \"\",\n        \"description\": \"\"\n      }\n    },\n    {\n      \"column\": \"comments\",\n      \"properties\": {\n        \"dtype\": \"string\",\n        \"num_unique_values\": 5,\n        \"samples\": [\n          \"Boise, ID, spherical, 20 min, 10 red lights, seen by husband and wife.\"\n        ],\n        \"semantic_type\": \"\",\n        \"description\": \"\"\n      }\n    },\n    {\n      \"column\": \"date_posted\",\n      \"properties\": {\n        \"dtype\": \"date\",\n        \"min\": \"2013-09-30 00:00:00\",\n        \"max\": \"2013-09-30 00:00:00\",\n        \"num_unique_values\": 1,\n        \"samples\": [\n          \"2013-09-30 00:00:00\"\n        ],\n        \"semantic_type\": \"\",\n        \"description\": \"\"\n      }\n    },\n    {\n      \"column\": \"latitude\",\n      \"properties\": {\n        \"dtype\": \"number\",\n        \"std\": 3.1584263061137308,\n        \"min\": 35.6527778,\n        \"max\": 43.6136111,\n        \"num_unique_values\": 5,\n        \"samples\": [\n          43.6136111\n        ],\n        \"semantic_type\": \"\",\n        \"description\": \"\"\n      }\n    },\n    {\n      \"column\": \"longitude\",\n      \"properties\": {\n        \"dtype\": \"number\",\n        \"std\": 19.085235798501497,\n        \"min\": -122.2844444,\n        \"max\": -77.2655556,\n        \"num_unique_values\": 5,\n        \"samples\": [\n          -116.2025\n        ],\n        \"semantic_type\": \"\",\n        \"description\": \"\"\n      }\n    }\n  ]\n}"
            }
          },
          "metadata": {},
          "execution_count": 47
        }
      ]
    },
    {
      "cell_type": "markdown",
      "source": [
        "# **Step 2.** Visualising data\n"
      ],
      "metadata": {
        "id": "M0kSj2ySRPfV"
      }
    },
    {
      "cell_type": "markdown",
      "source": [
        "In this step we will visualise various data available to us"
      ],
      "metadata": {
        "id": "EyBbUlISRrko"
      }
    },
    {
      "cell_type": "markdown",
      "source": [
        "## **Step 2.1** Visualising UFO sightings over time"
      ],
      "metadata": {
        "id": "s8nxnzU-Rxw8"
      }
    },
    {
      "cell_type": "code",
      "source": [
        "# Create year column from our datetime column, and aggregate sighting per year\n",
        "df['year'] = df['datetime'].dt.year\n",
        "sightings_by_year = df['year'].value_counts().sort_index()"
      ],
      "metadata": {
        "id": "fn82biz5R6sD"
      },
      "execution_count": 48,
      "outputs": []
    },
    {
      "cell_type": "code",
      "source": [
        "# Plotting the sightings\n",
        "plt.figure(figsize=(10,5))\n",
        "plt.plot(sightings_by_year.index, sightings_by_year.values, marker='o')\n",
        "plt.xlabel(\"Year\")\n",
        "plt.ylabel(\"Number of Sightings\")\n",
        "plt.title(\"UFO sightings over time\")\n",
        "plt.grid()\n",
        "plt.show()"
      ],
      "metadata": {
        "colab": {
          "base_uri": "https://localhost:8080/",
          "height": 0
        },
        "id": "8E7ihTgsSdu8",
        "outputId": "16599576-f2ba-40fd-bc97-4d2a22c004f3"
      },
      "execution_count": 49,
      "outputs": [
        {
          "output_type": "display_data",
          "data": {
            "text/plain": [
              "<Figure size 1000x500 with 1 Axes>"
            ],
            "image/png": "[encoded data removed]"
          },
          "metadata": {}
        }
      ]
    },
    {
      "cell_type": "markdown",
      "source": [
        "## **Step 2.2** Visualising most common UFO shapes"
      ],
      "metadata": {
        "id": "PgQF49jeTULD"
      }
    },
    {
      "cell_type": "markdown",
      "source": [
        "In this step we will visualise the most common UFO shapes using bar chart."
      ],
      "metadata": {
        "id": "QNyk7eIYTcGp"
      }
    },
    {
      "cell_type": "code",
      "source": [
        "# Let's see how many shapes we have in our dataset\n",
        "shapes_in_data = len(pd.unique(df['shape']))\n",
        "print(shapes_in_data)"
      ],
      "metadata": {
        "colab": {
          "base_uri": "https://localhost:8080/"
        },
        "id": "7QyOF5p-UBR2",
        "outputId": "24c53b79-bc66-4880-996d-0c2676eb1443"
      },
      "execution_count": 50,
      "outputs": [
        {
          "output_type": "stream",
          "name": "stdout",
          "text": [
            "28\n"
          ]
        }
      ]
    },
    {
      "cell_type": "code",
      "source": [
        "# Let's visualise our shape data as a bar chart\n",
        "df['shape'].value_counts().head(shapes_in_data).plot(kind=\"bar\", figsize=(10,5), color=\"skyblue\")\n",
        "plt.title(\"Top 10 Most reported UFO Shapes\")\n",
        "plt.xlabel(\"Shape\")\n",
        "plt.ylabel(\"Number of Sightings\")\n",
        "plt.xticks(rotation=45)\n",
        "plt.show()"
      ],
      "metadata": {
        "colab": {
          "base_uri": "https://localhost:8080/",
          "height": 0
        },
        "id": "0ugs7Wn_TkoZ",
        "outputId": "42584629-3606-4260-dc6f-cb5fde5aeb11"
      },
      "execution_count": 51,
      "outputs": [
        {
          "output_type": "display_data",
          "data": {
            "text/plain": [
              "<Figure size 1000x500 with 1 Axes>"
            ],
            "image/png": "[encoded data removed]"
          },
          "metadata": {}
        }
      ]
    },
    {
      "cell_type": "markdown",
      "source": [
        "## **Step 2.3** Visualising sightings by location\n"
      ],
      "metadata": {
        "id": "H9EH7Fqfwgjq"
      }
    },
    {
      "cell_type": "code",
      "source": [
        "df['country'].value_counts().head(10).plot(kind=\"bar\", figsize=(10,5), color=\"salmon\")\n",
        "plt.title(\"TOP 10 Countries by sightings\")\n",
        "plt.xlabel(\"Country\")\n",
        "plt.ylabel(\"Number of Sightings\")\n",
        "plt.xticks(rotation=45)\n",
        "plt.show()"
      ],
      "metadata": {
        "colab": {
          "base_uri": "https://localhost:8080/",
          "height": 498
        },
        "id": "iVlizQo1wnjV",
        "outputId": "d5f953a7-97e3-4e47-c0b0-d609d94e0a1e"
      },
      "execution_count": 52,
      "outputs": [
        {
          "output_type": "display_data",
          "data": {
            "text/plain": [
              "<Figure size 1000x500 with 1 Axes>"
            ],
            "image/png": "[encoded data removed]"
          },
          "metadata": {}
        }
      ]
    }
  ]
}